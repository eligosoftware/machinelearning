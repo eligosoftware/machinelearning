{
  "nbformat": 4,
  "nbformat_minor": 0,
  "metadata": {
    "colab": {
      "name": "thompson.ipynb",
      "provenance": [],
      "collapsed_sections": []
    },
    "kernelspec": {
      "name": "python3",
      "display_name": "Python 3"
    }
  },
  "cells": [
    {
      "cell_type": "markdown",
      "metadata": {
        "id": "QJdrJJQUv3-k"
      },
      "source": [
        "# Thompson Sampling"
      ]
    },
    {
      "cell_type": "markdown",
      "metadata": {
        "id": "2XCjepjJwEv-"
      },
      "source": [
        "## Importing the libraries"
      ]
    },
    {
      "cell_type": "code",
      "metadata": {
        "id": "1kJAkAdCXIQC"
      },
      "source": [
        "import numpy as np\n",
        "import pandas as pd\n",
        "import matplotlib.pyplot as plt"
      ],
      "execution_count": null,
      "outputs": []
    },
    {
      "cell_type": "markdown",
      "metadata": {
        "id": "npqlXjaNwYTv"
      },
      "source": [
        "## Importing the dataset"
      ]
    },
    {
      "cell_type": "code",
      "metadata": {
        "id": "BUIMRfEdX0as"
      },
      "source": [
        "dataset=pd.read_csv('Ads_CTR_Optimisation.csv')"
      ],
      "execution_count": null,
      "outputs": []
    },
    {
      "cell_type": "markdown",
      "metadata": {
        "id": "PaSbots_wfoB"
      },
      "source": [
        "## Implementing Thompson"
      ]
    },
    {
      "cell_type": "code",
      "metadata": {
        "id": "QDORoWwra-sD"
      },
      "source": [
        "import random\n",
        "N= 500 # number of rows to analyse\n",
        "d=10  # number of columns /ads\n",
        "ads_selected=[] # list to store selected ads\n",
        "numbers_of_rewards_1=[0]*d\n",
        "numbers_of_rewards_0=[0]*d\n",
        "total_reward=0\n",
        "for n in range(0,N):\n",
        "  ad = 0\n",
        "  max_random=0\n",
        "  for i in range(0,d):\n",
        "    random_beta=random.betavariate(numbers_of_rewards_1[i]+1,numbers_of_rewards_0[i]+1)\n",
        "    if (random_beta>max_random):\n",
        "      max_random=random_beta\n",
        "      ad=i\n",
        "  ads_selected.append(ad)\n",
        "  reward=dataset.values[n][ad]\n",
        "  if reward==1:\n",
        "    numbers_of_rewards_1[ad]=numbers_of_rewards_1[ad]+1\n",
        "  else:\n",
        "    numbers_of_rewards_0[ad]=numbers_of_rewards_0[ad]+1\n",
        "  total_reward=total_reward+reward\n"
      ],
      "execution_count": null,
      "outputs": []
    },
    {
      "cell_type": "markdown",
      "metadata": {
        "id": "AXftWcjDwsYj"
      },
      "source": [
        "## Visualising the results"
      ]
    },
    {
      "cell_type": "code",
      "metadata": {
        "colab": {
          "base_uri": "https://localhost:8080/"
        },
        "id": "Djd8-eCgaJC4",
        "outputId": "d5384414-8f84-42c3-a1be-24e04f45cf6c"
      },
      "source": [
        "total_reward"
      ],
      "execution_count": null,
      "outputs": [
        {
          "output_type": "execute_result",
          "data": {
            "text/plain": [
              "2599"
            ]
          },
          "metadata": {
            "tags": []
          },
          "execution_count": 12
        }
      ]
    },
    {
      "cell_type": "code",
      "metadata": {
        "colab": {
          "base_uri": "https://localhost:8080/",
          "height": 295
        },
        "id": "3gWZE2fHqYRR",
        "outputId": "fcec4344-c2dc-4835-bad4-612ac4a57606"
      },
      "source": [
        "plt.hist(ads_selected) # list contains indexes of ads selected as maximum for all N rounds\n",
        "plt.title('Histogram of ad selections')\n",
        "plt.xlabel(\"Ads\")\n",
        "plt.ylabel(\"Number of times each ad was selected\")\n",
        "plt.show()"
      ],
      "execution_count": null,
      "outputs": [
        {
          "output_type": "display_data",
          "data": {
            "image/png": "[encoded data removed]",
            "text/plain": [
              "<Figure size 432x288 with 1 Axes>"
            ]
          },
          "metadata": {
            "tags": [],
            "needs_background": "light"
          }
        }
      ]
    }
  ]
}